{
 "cells": [
  {
   "cell_type": "markdown",
   "metadata": {},
   "source": [
    "# Setup"
   ]
  },
  {
   "cell_type": "markdown",
   "metadata": {},
   "source": [
    "# This file requires using the environment created from environment-gtfparse.yml"
   ]
  },
  {
   "cell_type": "code",
   "execution_count": 12,
   "metadata": {},
   "outputs": [],
   "source": [
    "# Imports\n",
    "\n",
    "import polars as pl\n",
    "import duckdb\n",
    "from pathlib import Path\n",
    "import math\n",
    "import os"
   ]
  },
  {
   "cell_type": "code",
   "execution_count": 2,
   "metadata": {},
   "outputs": [],
   "source": [
    "# Paths\n",
    "project_dir = Path(\"/data/teamgdansk/mwaleron/carmen-analysis\")\n",
    "\n",
    "data_dir = project_dir.joinpath(\"data\")\n",
    "temp_dir = project_dir.joinpath(\"temp\")\n",
    "\n",
    "data_subs_dir = data_dir.joinpath(\"subsidiary-files\")\n",
    "data_pub_dir = data_dir.joinpath(\"to-be-published\")\n",
    "\n",
    "cosmic_data_dir = data_subs_dir.joinpath(\"COSMIC\")\n",
    "cosmic_genome_screening_file = cosmic_data_dir.joinpath(\"Cosmic_GenomeScreensMutant_v99_GRCh38.tsv\")\n",
    "cosmic_classification_file = cosmic_data_dir.joinpath(\"Cosmic_Classification_v99_GRCh38.tsv\")\n",
    "\n",
    "gendode_data_dir = data_subs_dir.joinpath(\"GENCODE\")\n",
    "gencodev39_stripped = gendode_data_dir.joinpath(\"gencode.v39.annotation.stripped.versions.parquet\")\n",
    "\n",
    "contig_scaffold_list_file = data_pub_dir.joinpath(\"scaff_all_expanded.tsv\")\n",
    "contig_peptide_list_file = data_pub_dir.joinpath(\"contig_unique_peptide_list.tsv\")\n",
    "contig_hotspot_score_file = data_subs_dir.joinpath(\"hotspot_score_3_axis_per_contig.parquet\")\n",
    "contig_hotspot_score_top_quadrant_file = data_subs_dir.joinpath(\"contigs_top_quadrant_by_peptides_coverage.parquet\")\n",
    "pogo_mapping_filtered_by_top_quadrant_contigs = data_subs_dir.joinpath(\"pogo_tq.parquet\")\n",
    "\n",
    "exon_ranges_in_contigs_file = data_subs_dir.joinpath(\"evenbiggerjoin_cause_its_exons_not_just_genes_v2_just_the_contig_genes.parquet\")\n",
    "\n",
    "cosmic_somatics_overlap_with_contigs_file = data_subs_dir.joinpath(\"cosmic_somatics_overlap_with_contigs.parquet\")\n",
    "cosmic_somatics_overlap_with_top_quadrant_file = data_subs_dir.joinpath(\"cosmic_somatics_overlap_with_tq.parquet\")\n",
    "cosmic_mutations_in_contigs_semi_anti_file_B = data_subs_dir.joinpath(\"contig_cosmic_mutations.parquet\")\n",
    "cosmic_mutations_in_contigs_semi_anti_file_B_compliment = data_subs_dir.joinpath(\"non_contig_cosmic_mutations.parquet\")\n",
    "cosmic_mutations_in_top_quadrant_semi_anti_file_B = data_subs_dir.joinpath(\"tq_cosmic_mutations.parquet\")\n",
    "cosmic_mutations_in_top_quadrant_semi_anti_file_B_compliment = data_subs_dir.joinpath(\"non_tq_cosmic_mutations.parquet\")\n",
    "\n",
    "main_samples_file = data_dir.joinpath(\"main-output-table-1.tsv\")\n",
    "main_samples_file_2 = data_dir.joinpath(\"main-output-table-2.tsv\")\n",
    "main_samples_file_3 = data_subs_dir.joinpath(\"emilia_umap_with_ids.parquet\")"
   ]
  },
  {
   "cell_type": "code",
   "execution_count": 3,
   "metadata": {},
   "outputs": [],
   "source": [
    "cosmic_somatics = pl.read_csv(\n",
    "    cosmic_genome_screening_file, \n",
    "    separator='\\t')\n",
    "cosmic_classification = pl.read_csv(\n",
    "    cosmic_classification_file, \n",
    "    separator='\\t')\n",
    "contig_scaffold_list = pl.read_csv(\n",
    "    contig_scaffold_list_file,\n",
    "    separator='\\t')\n",
    "contig_peptide_list = pl.read_csv(\n",
    "    contig_peptide_list_file, \n",
    "    separator='\\t')"
   ]
  },
  {
   "cell_type": "code",
   "execution_count": null,
   "metadata": {},
   "outputs": [],
   "source": [
    "#exec disabled - just read the saved parquet\n",
    "%%script false --no-raise-error\n",
    "\n",
    "justcontigs = contig_scaffold_list.filter(pl.col(\"gap_width\") == 0)\n",
    "mutations_in_contigs = duckdb.sql('''\n",
    "                                select *\n",
    "                                from justcontigs j, cosmic_somatics_chr c\n",
    "                                where (j.Chromosome = c.CHROMOSOME)\n",
    "                                and(\n",
    "                                    (c.GENOME_START between j.Gene_start and j.Gene_end)\n",
    "                                or  (c.GENOME_STOP between j.Gene_Start and j.Gene_end)\n",
    "                                )\n",
    "                                ''')\n",
    "mutations_in_contigs_res = mutations_in_contigs.pl()\n",
    "mutations_in_contigs_res.write_parquet(cosmic_somatics_overlap_with_contigs_file)"
   ]
  },
  {
   "cell_type": "code",
   "execution_count": 8,
   "metadata": {},
   "outputs": [
    {
     "name": "stderr",
     "output_type": "stream",
     "text": [
      "/tmp/ipykernel_924857/2108381767.py:6: DeprecationWarning: The default coalesce behavior of left join will change to `False` in the next breaking release. Pass `coalesce=True` to keep the current behavior and silence this warning.\n",
      "  mutation_count_per_contig_C_name =  contig_scaffold_list\\\n"
     ]
    }
   ],
   "source": [
    "cosmic_mutcount_per_contig_tmp = temp_dir.joinpath(\"mutation_count_per_contig.parquet\")\n",
    "\n",
    "mutations_in_contigs_res = pl.read_parquet(cosmic_somatics_overlap_with_contigs_file)\n",
    "mutation_count_per_contig = mutations_in_contigs_res\\\n",
    "                            .group_by(\"Id\").len().sort(\"len\")\n",
    "mutation_count_per_contig_C_name =  contig_scaffold_list\\\n",
    "                                    .join(\n",
    "                                       mutation_count_per_contig,\n",
    "                                       on=\"Id\",\n",
    "                                       how=\"left\")\\\n",
    "                                    .fill_null(0)\\\n",
    "                                    .filter(pl.col(\"gap_width\") == 0)\\\n",
    "                                    .select([\"Contigs\", \"len\"])\n",
    "mutation_sum_per_scaffold = contig_scaffold_list\\\n",
    "                            .join(\n",
    "                                mutation_count_per_contig_C_name,\n",
    "                                on=\"Contigs\")\\\n",
    "                            .select([\"Id\", \"len\"])\\\n",
    "                            .group_by(\"Id\").sum().sort(\"len\")\n",
    "mutation_sum_per_scaffold.filter(pl.col(\"Id\").str.starts_with(\"S_0\"))\\\n",
    "                         .write_parquet(cosmic_mutcount_per_contig_tmp)"
   ]
  },
  {
   "cell_type": "code",
   "execution_count": null,
   "metadata": {},
   "outputs": [],
   "source": [
    "unique_peptides_per_contig_tmp = temp_dir.joinpath(\"unique_peptides_per_contig.parquet\")\n",
    "contig_peptide_one_to_one = contig_peptide_list\\\n",
    "                            .with_columns(pl.col(\"pep_list\").str.split(','))\\\n",
    "                            .explode(\"pep_list\")\\\n",
    "                            .unique([\"pep_list\", \"contig\"])\\\n",
    "                            .select([\"pep_list\", \"contig\"])\n",
    "scaffold_peptide = contig_scaffold_list\\\n",
    "                   .join(\n",
    "                       contig_peptide_one_to_one,\n",
    "                       left_on=\"Contigs\",\n",
    "                       right_on=\"contig\")\\\n",
    "                   .unique([\"Id\", \"pep_list\"])\\\n",
    "                   .group_by(\"Id\").agg(\"pep_list\")\n",
    "emilia_umap = pl.read_csv(main_samples_file, separator=\"\\t\")\n",
    "emilia_umap_peptides = pl.read_csv(main_samples_file_2, separator=\"\\t\")\n",
    "emilia_umap_with_ids =  emilia_umap\\\n",
    "                        .with_row_index()\\\n",
    "                        .hstack(emilia_umap_peptides.select(\"Id\", \"Peptides\"))\\\n",
    "                        .with_columns(Peptides = pl.col(\"Peptides\").str.split(\",\"))\n",
    "emilia_umap_with_ids.write_parquet(main_samples_file_3)\n",
    "unique_peptides_per_contig =    scaffold_peptide\\\n",
    "                                .with_columns(unique_peptides = pl.col(\"pep_list\").list.len())\\\n",
    "                                .filter(pl.col(\"Id\").str.starts_with(\"S_0\"))\n",
    "unique_peptides_per_contig.write_parquet(unique_peptides_per_contig_tmp)\n",
    "\n",
    "calculation_spam_dir = temp_dir.joinpath(\"parquetspam\")\n",
    "calculation_spam_dir.mkdir(parents=True,exist_ok=True)\n",
    "contig_peptide = scaffold_peptide.filter(pl.col(\"Id\").str.starts_with(\"S_0\"))\n",
    "number_of_shards = math.ceil(len(contig_peptide)/10000)\n",
    "for i in range(number_of_shards):\n",
    "    contig_peptide.slice(10000*i, 10000)\\\n",
    "                  .write_parquet(calculation_spam_dir.joinpath(f\"contig_slice_{i}.parquet\"))"
   ]
  },
  {
   "cell_type": "code",
   "execution_count": null,
   "metadata": {},
   "outputs": [],
   "source": [
    "# run the compute on the slices\n",
    "# it is recommended to use parallel, SLURM or other parallelization method here\n",
    "for i in range(number_of_shards):\n",
    "    os.system(f\"python ./calculate_immune_score.py {i}\")"
   ]
  },
  {
   "cell_type": "code",
   "execution_count": 10,
   "metadata": {},
   "outputs": [
    {
     "name": "stderr",
     "output_type": "stream",
     "text": [
      "UsageError: Line magic function `%%script` not found.\n"
     ]
    }
   ],
   "source": [
    "test=pl.read_parquet(calculation_spam_dir.joinpath(\"scored_contig_slice_*\"))\n",
    "popcov_per_contig_file_tmp = temp_dir.joinpath(\"population_coverage_per_contig.parquet\")\n",
    "test.write_parquet(popcov_per_contig_file_tmp)\n",
    "mutation_sum_per_scaffold = pl.read_parquet(cosmic_mutcount_per_contig_tmp)\n",
    "test.join(unique_peptides_per_contig, on=\"Id\")\\\n",
    "    .join(mutation_sum_per_scaffold, on=\"Id\")\\\n",
    "    .drop(\"pep_list\", \"pep_list_right\")\\\n",
    "    .rename({\"len\":\"mutation_count\"})\\\n",
    "    .write_parquet(contig_hotspot_score_file)\n",
    "exon_join=pl.scan_parquet(exon_ranges_in_contigs_file)\n",
    "contig_exon_len = exon_join\\\n",
    "                    .filter(pl.col(\"gap_width\")==0)\\\n",
    "                    .with_columns(exon_length = pl.col(\"exon_end\") - pl.col(\"exon_start\"))\\\n",
    "                    .select(\"Id\", \"exon_length\")\\\n",
    "                    .group_by(\"Id\").sum().collect()\n",
    "hotspot_score_3_axis_per_contig = pl.read_parquet(contig_hotspot_score_file).join(contig_exon_len, on=\"Id\")\n",
    "hotspot_score_3_axis_per_contig =  hotspot_score_3_axis_per_contig\\\n",
    "                                   .with_columns(normalized_unique_pep = pl.col(\"unique_peptides\") / pl.col(\"exon_length\"))\n",
    "hotspot_score_3_axis_per_contig = hotspot_score_3_axis_per_contig\\\n",
    "                                  .sort(pl.col(\"popcov_but_sqrt\"), descending=True)\\\n",
    "                                  .with_row_index(\"pop_cov_idx\")\\\n",
    "                                  .sort(pl.col(\"mutation_count\"), descending=True)\\\n",
    "                                  .with_row_index(\"mut_count_idx\")\\\n",
    "                                  .sort(pl.col(\"normalized_unique_pep\"), descending=True)\\\n",
    "                                  .with_row_index(\"unique_pep_idx\")\\\n",
    "                                  .with_columns(\n",
    "                                      ranking= pl.col(\"unique_pep_idx\") + pl.col(\"mut_count_idx\") + pl.col(\"pop_cov_idx\"))\\\n",
    "                                  .sort(\"ranking\")\n",
    "hotspot_score_3_axis_per_contig.filter(\n",
    "                                        pl.col(\"unique_pep_idx\") < 124025 , \n",
    "                                        pl.col(\"pop_cov_idx\") < 124025)\\\n",
    "                                .write_parquet(contig_hotspot_score_top_quadrant_file)\n",
    "top_quadrant = pl.read_parquet(contig_hotspot_score_top_quadrant_file)\n",
    "justcontigs = contig_scaffold_list.filter(pl.col(\"gap_width\") == 0, pl.col(\"Id\").is_in(top_quadrant[\"Id\"]))\n"
   ]
  },
  {
   "cell_type": "code",
   "execution_count": null,
   "metadata": {},
   "outputs": [],
   "source": [
    "#exec disabled - just read the saved parquet\n",
    "%%script false --no-raise-error\n",
    "\n",
    "cosmic_somatics_chr = pl.read_csv(\n",
    "    cosmic_genome_screening_file, \n",
    "    separator='\\t').with_columns(CHROMOSOME = pl.lit(\"chr\")+pl.col(\"CHROMOSOME\").str.replace(\"MT\",\"M\"))\n",
    "justtq = contig_scaffold_list.filter(pl.col(\"gap_width\") == 0, pl.col(\"Id\").is_in(top_quadrant[\"Id\"]))\n",
    "mutations_in_tq = duckdb.sql('''\n",
    "                                select *\n",
    "                                from justtq j, cosmic_somatics_chr c\n",
    "                                where (j.Chromosome = c.CHROMOSOME)\n",
    "                                and(\n",
    "                                    (c.GENOME_START between j.Gene_start and j.Gene_end)\n",
    "                                or  (c.GENOME_STOP between j.Gene_Start and j.Gene_end)\n",
    "                                )\n",
    "                                ''')\n",
    "mutations_in_tq_res = mutations_in_tq.pl()\n",
    "mutations_in_tq_res.write_parquet(cosmic_somatics_overlap_with_top_quadrant_file)"
   ]
  },
  {
   "cell_type": "code",
   "execution_count": null,
   "metadata": {},
   "outputs": [],
   "source": [
    "# This is the correct set in the sense mutations aren't doubled \n",
    "# Thus this one will be used for statistics\n",
    "%%script false --no-raise-error\n",
    "setB = cosmic_somatics.with_columns(\n",
    "    CHROMOSOME=pl.col(\"CHROMOSOME\").str.replace(\"MT\",\"M\")\n",
    "    ).rename({\"CHROMOSOME\":\"CHROMOSOME_1\"}\n",
    "             ).join(\n",
    "                mutations_in_contigs_res.with_columns(\n",
    "                    CHROMOSOME_1=pl.col(\"CHROMOSOME_1\").str.strip_chars_start(\"chr\")), \n",
    "                on=[\"GENOME_START\",\"GENOME_STOP\",\"CHROMOSOME_1\"], \n",
    "                how=\"semi\").collect()\n",
    "setB.write_parquet(cosmic_mutations_in_contigs_semi_anti_file_B)\n"
   ]
  },
  {
   "cell_type": "code",
   "execution_count": null,
   "metadata": {},
   "outputs": [],
   "source": [
    "# This is complimentary to setB\n",
    "# ye just read the parquet as usual\n",
    "%%script false --no-raise-error\n",
    "non_contig_mutations = cosmic_somatics.with_columns(\n",
    "    CHROMOSOME=pl.col(\"CHROMOSOME\").str.replace(\"MT\",\"M\")\n",
    "    ).rename({\"CHROMOSOME\":\"CHROMOSOME_1\"}\n",
    "             ).join(\n",
    "                mutations_in_contigs_res.with_columns(\n",
    "                    CHROMOSOME_1=pl.col(\"CHROMOSOME_1\").str.strip_chars_start(\"chr\")), \n",
    "                on=[\"GENOME_START\",\"GENOME_STOP\",\"CHROMOSOME_1\"], \n",
    "                how=\"anti\").collect()\n",
    "\n",
    "non_contig_mutations.write_parquet(cosmic_mutations_in_contigs_semi_anti_file_B_compliment)"
   ]
  },
  {
   "cell_type": "code",
   "execution_count": null,
   "metadata": {},
   "outputs": [],
   "source": [
    "mutations_in_tq_res = pl.read_parquet(cosmic_somatics_overlap_with_top_quadrant_file)"
   ]
  },
  {
   "cell_type": "code",
   "execution_count": null,
   "metadata": {},
   "outputs": [],
   "source": [
    "setB = pl.read_parquet(cosmic_mutations_in_contigs_semi_anti_file_B)\n"
   ]
  },
  {
   "cell_type": "code",
   "execution_count": null,
   "metadata": {},
   "outputs": [],
   "source": [
    "non_contig_mutations = pl.read_parquet(cosmic_mutations_in_contigs_semi_anti_file_B_compliment)"
   ]
  },
  {
   "cell_type": "code",
   "execution_count": 4,
   "metadata": {},
   "outputs": [],
   "source": [
    "setBtq = cosmic_somatics.with_columns(\n",
    "    CHROMOSOME=pl.col(\"CHROMOSOME\").str.replace(\"MT\",\"M\")\n",
    "    ).rename({\"CHROMOSOME\":\"CHROMOSOME_1\"}\n",
    "             ).join(\n",
    "                mutations_in_tq_res.with_columns(\n",
    "                    CHROMOSOME_1=pl.col(\"CHROMOSOME_1\").str.strip_chars_start(\"chr\")), \n",
    "                on=[\"GENOME_START\",\"GENOME_STOP\",\"CHROMOSOME_1\"], \n",
    "                how=\"semi\")\n",
    "setBtq.write_parquet(cosmic_mutations_in_top_quadrant_semi_anti_file_B)\n",
    "setBtq = pl.read_parquet(cosmic_mutations_in_top_quadrant_semi_anti_file_B)\n",
    "\n",
    "non_tq_mutations = cosmic_somatics.with_columns(\n",
    "    CHROMOSOME=pl.col(\"CHROMOSOME\").str.replace(\"MT\",\"M\")\n",
    "    ).rename({\"CHROMOSOME\":\"CHROMOSOME_1\"}\n",
    "             ).join(\n",
    "                mutations_in_tq_res.with_columns(\n",
    "                    CHROMOSOME_1=pl.col(\"CHROMOSOME_1\").str.strip_chars_start(\"chr\")), \n",
    "                on=[\"GENOME_START\",\"GENOME_STOP\",\"CHROMOSOME_1\"], \n",
    "                how=\"anti\")\n",
    "\n",
    "non_tq_mutations.write_parquet(cosmic_mutations_in_top_quadrant_semi_anti_file_B_compliment)\n",
    "non_tq_mutations = pl.read_parquet(cosmic_mutations_in_top_quadrant_semi_anti_file_B_compliment)"
   ]
  },
  {
   "cell_type": "markdown",
   "metadata": {},
   "source": [
    "# Final Cleanup"
   ]
  },
  {
   "cell_type": "markdown",
   "metadata": {},
   "source": [
    "This is to clean up and delete all additional files and directories created throughout the analysis.\n",
    "\n",
    "**Do not run the second cell unless you want to end your work here or start over.**"
   ]
  },
  {
   "cell_type": "code",
   "execution_count": null,
   "metadata": {},
   "outputs": [],
   "source": [
    "# This is a safety code\n",
    "\n",
    "raise KeyboardInterrupt(\"Are you sure you want to run the cell below?\")"
   ]
  },
  {
   "cell_type": "code",
   "execution_count": null,
   "metadata": {},
   "outputs": [],
   "source": [
    "cosmic_mutcount_per_contig_tmp.unlink()\n",
    "unique_peptides_per_contig_tmp.unlink()\n",
    "calculation_spam_dir.joinpath(\"*\").unlink()\n",
    "calculation_spam_dir.rmdir()\n",
    "popcov_per_contig_file_tmp.unlink()"
   ]
  }
 ],
 "metadata": {
  "kernelspec": {
   "display_name": "carmen",
   "language": "python",
   "name": "python3"
  },
  "language_info": {
   "codemirror_mode": {
    "name": "ipython",
    "version": 3
   },
   "file_extension": ".py",
   "mimetype": "text/x-python",
   "name": "python",
   "nbconvert_exporter": "python",
   "pygments_lexer": "ipython3",
   "version": "3.9.20"
  }
 },
 "nbformat": 4,
 "nbformat_minor": 2
}
