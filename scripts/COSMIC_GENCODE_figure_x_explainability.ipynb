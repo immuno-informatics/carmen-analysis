{
 "cells": [
  {
   "cell_type": "markdown",
   "metadata": {},
   "source": [
    "# Setup"
   ]
  },
  {
   "cell_type": "code",
   "execution_count": null,
   "metadata": {},
   "outputs": [],
   "source": [
    "# Imports\n",
    "\n",
    "import polars as pl\n",
    "import duckdb\n",
    "from pathlib import Path"
   ]
  },
  {
   "cell_type": "code",
   "execution_count": null,
   "metadata": {},
   "outputs": [],
   "source": [
    "# Paths\n",
    "project_dir = Path(\"/data/teamgdansk/mwaleron/carmen-analysis\")\n",
    "\n",
    "data_dir = project_dir.joinpath(\"data\")\n",
    "figures_dir = project_dir.joinpath(\"figures\")\n",
    "temp_dir = project_dir.joinpath(\"temp\")\n",
    "\n",
    "figures_gen_dir = figures_dir.joinpath(\"script-generated\")\n",
    "\n",
    "figures_main_dir = figures_gen_dir.joinpath(\"main-panels\")\n",
    "figures_supp_dir = figures_gen_dir.joinpath(\"supplementary\")\n",
    "\n",
    "data_subs_dir = data_dir.joinpath(\"subsidiary-files\")\n",
    "data_pub_dir = data_dir.joinpath(\"to-be-published\")\n",
    "\n",
    "contig_scaffold_list_file = data_pub_dir.joinpath(\"scaff_all_expanded.tsv\")\n",
    "contig_hotspot_score_file = data_subs_dir.joinpath(\"sorted_normalized_contig_score.parquet\")"
   ]
  },
  {
   "cell_type": "markdown",
   "metadata": {},
   "source": [
    "All the file reads for this stage of analysis."
   ]
  },
  {
   "cell_type": "code",
   "execution_count": null,
   "metadata": {},
   "outputs": [],
   "source": [
    "contig_scaffold_list = pl.read_csv(\n",
    "    contig_scaffold_list_file,\n",
    "    separator='\\t')"
   ]
  },
  {
   "cell_type": "code",
   "execution_count": 4,
   "metadata": {},
   "outputs": [],
   "source": [
    "braun_ashwin = pl.read_csv(data_subs_dir.joinpath(\"Bruan_MutationExperiments_3_1.tsv\"), separator=\"\\t\")"
   ]
  },
  {
   "cell_type": "markdown",
   "metadata": {},
   "source": [
    "# Panels i still dont know which"
   ]
  },
  {
   "cell_type": "code",
   "execution_count": 9,
   "metadata": {},
   "outputs": [
    {
     "data": {
      "text/html": [
       "<div><style>\n",
       ".dataframe > thead > tr,\n",
       ".dataframe > tbody > tr {\n",
       "  text-align: right;\n",
       "  white-space: pre-wrap;\n",
       "}\n",
       "</style>\n",
       "<small>shape: (7_704_306, 7)</small><table border=\"1\" class=\"dataframe\"><thead><tr><th>Id</th><th>Chromosome</th><th>Gene_start</th><th>Gene_end</th><th>Contigs</th><th>Multi_contig</th><th>gap_width</th></tr><tr><td>str</td><td>str</td><td>i64</td><td>i64</td><td>str</td><td>str</td><td>i64</td></tr></thead><tbody><tr><td>&quot;S_0_1&quot;</td><td>&quot;chr1&quot;</td><td>69127</td><td>69153</td><td>&quot;C1&quot;</td><td>&quot;N&quot;</td><td>0</td></tr><tr><td>&quot;S_0_2&quot;</td><td>&quot;chr1&quot;</td><td>69904</td><td>69930</td><td>&quot;C2&quot;</td><td>&quot;N&quot;</td><td>0</td></tr><tr><td>&quot;S_0_3&quot;</td><td>&quot;chr1&quot;</td><td>924513</td><td>924545</td><td>&quot;C3&quot;</td><td>&quot;N&quot;</td><td>0</td></tr><tr><td>&quot;S_0_4&quot;</td><td>&quot;chr1&quot;</td><td>924576</td><td>924608</td><td>&quot;C4&quot;</td><td>&quot;N&quot;</td><td>0</td></tr><tr><td>&quot;S_0_5&quot;</td><td>&quot;chr1&quot;</td><td>925936</td><td>925965</td><td>&quot;C5&quot;</td><td>&quot;N&quot;</td><td>0</td></tr><tr><td>&hellip;</td><td>&hellip;</td><td>&hellip;</td><td>&hellip;</td><td>&hellip;</td><td>&hellip;</td><td>&hellip;</td></tr><tr><td>&quot;S_90_104927&quot;</td><td>&quot;chrY&quot;</td><td>57209676</td><td>57209702</td><td>&quot;C248386&quot;</td><td>&quot;N&quot;</td><td>90</td></tr><tr><td>&quot;S_90_104928&quot;</td><td>&quot;chrY&quot;</td><td>57209842</td><td>57209946</td><td>&quot;C248387&quot;</td><td>&quot;Y&quot;</td><td>90</td></tr><tr><td>&quot;S_90_104928&quot;</td><td>&quot;chrY&quot;</td><td>57209842</td><td>57209946</td><td>&quot;C248388&quot;</td><td>&quot;Y&quot;</td><td>90</td></tr><tr><td>&quot;S_90_104929&quot;</td><td>&quot;chrY&quot;</td><td>57210687</td><td>57210734</td><td>&quot;C248389&quot;</td><td>&quot;N&quot;</td><td>90</td></tr><tr><td>&quot;S_90_104930&quot;</td><td>&quot;chrY&quot;</td><td>57211575</td><td>57211613</td><td>&quot;C248390&quot;</td><td>&quot;N&quot;</td><td>90</td></tr></tbody></table></div>"
      ],
      "text/plain": [
       "shape: (7_704_306, 7)\n",
       "┌─────────────┬────────────┬────────────┬──────────┬─────────┬──────────────┬───────────┐\n",
       "│ Id          ┆ Chromosome ┆ Gene_start ┆ Gene_end ┆ Contigs ┆ Multi_contig ┆ gap_width │\n",
       "│ ---         ┆ ---        ┆ ---        ┆ ---      ┆ ---     ┆ ---          ┆ ---       │\n",
       "│ str         ┆ str        ┆ i64        ┆ i64      ┆ str     ┆ str          ┆ i64       │\n",
       "╞═════════════╪════════════╪════════════╪══════════╪═════════╪══════════════╪═══════════╡\n",
       "│ S_0_1       ┆ chr1       ┆ 69127      ┆ 69153    ┆ C1      ┆ N            ┆ 0         │\n",
       "│ S_0_2       ┆ chr1       ┆ 69904      ┆ 69930    ┆ C2      ┆ N            ┆ 0         │\n",
       "│ S_0_3       ┆ chr1       ┆ 924513     ┆ 924545   ┆ C3      ┆ N            ┆ 0         │\n",
       "│ S_0_4       ┆ chr1       ┆ 924576     ┆ 924608   ┆ C4      ┆ N            ┆ 0         │\n",
       "│ S_0_5       ┆ chr1       ┆ 925936     ┆ 925965   ┆ C5      ┆ N            ┆ 0         │\n",
       "│ …           ┆ …          ┆ …          ┆ …        ┆ …       ┆ …            ┆ …         │\n",
       "│ S_90_104927 ┆ chrY       ┆ 57209676   ┆ 57209702 ┆ C248386 ┆ N            ┆ 90        │\n",
       "│ S_90_104928 ┆ chrY       ┆ 57209842   ┆ 57209946 ┆ C248387 ┆ Y            ┆ 90        │\n",
       "│ S_90_104928 ┆ chrY       ┆ 57209842   ┆ 57209946 ┆ C248388 ┆ Y            ┆ 90        │\n",
       "│ S_90_104929 ┆ chrY       ┆ 57210687   ┆ 57210734 ┆ C248389 ┆ N            ┆ 90        │\n",
       "│ S_90_104930 ┆ chrY       ┆ 57211575   ┆ 57211613 ┆ C248390 ┆ N            ┆ 90        │\n",
       "└─────────────┴────────────┴────────────┴──────────┴─────────┴──────────────┴───────────┘"
      ]
     },
     "execution_count": 9,
     "metadata": {},
     "output_type": "execute_result"
    }
   ],
   "source": [
    "contig_scaffold_list"
   ]
  },
  {
   "cell_type": "code",
   "execution_count": 8,
   "metadata": {},
   "outputs": [
    {
     "data": {
      "text/html": [
       "<div><style>\n",
       ".dataframe > thead > tr,\n",
       ".dataframe > tbody > tr {\n",
       "  text-align: right;\n",
       "  white-space: pre-wrap;\n",
       "}\n",
       "</style>\n",
       "<small>shape: (170, 18)</small><table border=\"1\" class=\"dataframe\"><thead><tr><th></th><th>METHOD</th><th>Info</th><th>aroc</th><th>precision</th><th>recall</th><th>f1</th><th>precision_true</th><th>recall_true</th><th>f1_true</th><th>precision_false</th><th>recall_false</th><th>f1_false</th><th>accuracy</th><th>Chromosome</th><th>Start_position</th><th>End_position</th><th>Count</th></tr><tr><td>i64</td><td>str</td><td>str</td><td>f64</td><td>f64</td><td>f64</td><td>f64</td><td>f64</td><td>f64</td><td>f64</td><td>f64</td><td>f64</td><td>f64</td><td>f64</td><td>str</td><td>i64</td><td>i64</td><td>i64</td></tr></thead><tbody><tr><td>0</td><td>&quot;Predictor:SVM{&#x27;kernel&#x27;: &#x27;poly&#x27;…</td><td>&quot;{&#x27;PRIMARY_TUMOR_ONLY&#x27;: False, …</td><td>0.657895</td><td>0.644737</td><td>0.644737</td><td>0.644737</td><td>0.526316</td><td>0.526316</td><td>0.526316</td><td>0.763158</td><td>0.763158</td><td>0.763158</td><td>0.684211</td><td>null</td><td>null</td><td>null</td><td>null</td></tr><tr><td>0</td><td>&quot;Predictor:SVM{&#x27;kernel&#x27;: &#x27;poly&#x27;…</td><td>&quot;{&#x27;PRIMARY_TUMOR_ONLY&#x27;: False, …</td><td>0.596953</td><td>0.528963</td><td>0.526316</td><td>0.525859</td><td>0.375</td><td>0.315789</td><td>0.342857</td><td>0.682927</td><td>0.736842</td><td>0.708861</td><td>0.596491</td><td>&quot;chr5&quot;</td><td>43120013</td><td>43120013</td><td>86</td></tr><tr><td>0</td><td>&quot;Predictor:SVM{&#x27;kernel&#x27;: &#x27;poly&#x27;…</td><td>&quot;{&#x27;PRIMARY_TUMOR_ONLY&#x27;: False, …</td><td>0.635734</td><td>0.632867</td><td>0.605263</td><td>0.608994</td><td>0.538462</td><td>0.368421</td><td>0.4375</td><td>0.727273</td><td>0.842105</td><td>0.780488</td><td>0.684211</td><td>&quot;chr11&quot;</td><td>31682011</td><td>31682011</td><td>49</td></tr><tr><td>0</td><td>&quot;Predictor:SVM{&#x27;kernel&#x27;: &#x27;poly&#x27;…</td><td>&quot;{&#x27;PRIMARY_TUMOR_ONLY&#x27;: False, …</td><td>0.646814</td><td>0.659299</td><td>0.644737</td><td>0.649548</td><td>0.5625</td><td>0.473684</td><td>0.514286</td><td>0.756098</td><td>0.815789</td><td>0.78481</td><td>0.701754</td><td>&quot;chr11&quot;</td><td>72755591</td><td>72755591</td><td>34</td></tr><tr><td>0</td><td>&quot;Predictor:SVM{&#x27;kernel&#x27;: &#x27;poly&#x27;…</td><td>&quot;{&#x27;PRIMARY_TUMOR_ONLY&#x27;: False, …</td><td>0.65374</td><td>0.680952</td><td>0.657895</td><td>0.664706</td><td>0.6</td><td>0.473684</td><td>0.529412</td><td>0.761905</td><td>0.842105</td><td>0.8</td><td>0.719298</td><td>&quot;chr14&quot;</td><td>102198388</td><td>102198388</td><td>33</td></tr><tr><td>&hellip;</td><td>&hellip;</td><td>&hellip;</td><td>&hellip;</td><td>&hellip;</td><td>&hellip;</td><td>&hellip;</td><td>&hellip;</td><td>&hellip;</td><td>&hellip;</td><td>&hellip;</td><td>&hellip;</td><td>&hellip;</td><td>&hellip;</td><td>&hellip;</td><td>&hellip;</td><td>&hellip;</td><td>&hellip;</td></tr><tr><td>0</td><td>&quot;Predictor:SVM{&#x27;kernel&#x27;: &#x27;poly&#x27;…</td><td>&quot;{&#x27;PRIMARY_TUMOR_ONLY&#x27;: False, …</td><td>0.638504</td><td>0.659299</td><td>0.644737</td><td>0.649548</td><td>0.5625</td><td>0.473684</td><td>0.514286</td><td>0.756098</td><td>0.815789</td><td>0.78481</td><td>0.701754</td><td>&quot;chr3&quot;</td><td>47105719</td><td>47105719</td><td>4</td></tr><tr><td>0</td><td>&quot;Predictor:SVM{&#x27;kernel&#x27;: &#x27;poly&#x27;…</td><td>&quot;{&#x27;PRIMARY_TUMOR_ONLY&#x27;: False, …</td><td>0.639889</td><td>0.659299</td><td>0.644737</td><td>0.649548</td><td>0.5625</td><td>0.473684</td><td>0.514286</td><td>0.756098</td><td>0.815789</td><td>0.78481</td><td>0.701754</td><td>&quot;chr12&quot;</td><td>31708932</td><td>31708932</td><td>4</td></tr><tr><td>0</td><td>&quot;Predictor:SVM{&#x27;kernel&#x27;: &#x27;poly&#x27;…</td><td>&quot;{&#x27;PRIMARY_TUMOR_ONLY&#x27;: False, …</td><td>0.641274</td><td>0.680952</td><td>0.657895</td><td>0.664706</td><td>0.6</td><td>0.473684</td><td>0.529412</td><td>0.761905</td><td>0.842105</td><td>0.8</td><td>0.719298</td><td>&quot;chr19&quot;</td><td>57873971</td><td>57873971</td><td>4</td></tr><tr><td>0</td><td>&quot;Predictor:SVM{&#x27;kernel&#x27;: &#x27;poly&#x27;…</td><td>&quot;{&#x27;PRIMARY_TUMOR_ONLY&#x27;: False, …</td><td>0.642659</td><td>0.659299</td><td>0.644737</td><td>0.649548</td><td>0.5625</td><td>0.473684</td><td>0.514286</td><td>0.756098</td><td>0.815789</td><td>0.78481</td><td>0.701754</td><td>&quot;chr21&quot;</td><td>25945945</td><td>25945945</td><td>4</td></tr><tr><td>0</td><td>&quot;Predictor:SVM{&#x27;kernel&#x27;: &#x27;poly&#x27;…</td><td>&quot;{&#x27;PRIMARY_TUMOR_ONLY&#x27;: False, …</td><td>0.642659</td><td>0.659299</td><td>0.644737</td><td>0.649548</td><td>0.5625</td><td>0.473684</td><td>0.514286</td><td>0.756098</td><td>0.815789</td><td>0.78481</td><td>0.701754</td><td>&quot;chr12&quot;</td><td>27012737</td><td>27012737</td><td>4</td></tr></tbody></table></div>"
      ],
      "text/plain": [
       "shape: (170, 18)\n",
       "┌─────┬──────────────┬─────────────┬──────────┬───┬────────────┬─────────────┬─────────────┬───────┐\n",
       "│     ┆ METHOD       ┆ Info        ┆ aroc     ┆ … ┆ Chromosome ┆ Start_posit ┆ End_positio ┆ Count │\n",
       "│ --- ┆ ---          ┆ ---         ┆ ---      ┆   ┆ ---        ┆ ion         ┆ n           ┆ ---   │\n",
       "│ i64 ┆ str          ┆ str         ┆ f64      ┆   ┆ str        ┆ ---         ┆ ---         ┆ i64   │\n",
       "│     ┆              ┆             ┆          ┆   ┆            ┆ i64         ┆ i64         ┆       │\n",
       "╞═════╪══════════════╪═════════════╪══════════╪═══╪════════════╪═════════════╪═════════════╪═══════╡\n",
       "│ 0   ┆ Predictor:SV ┆ {'PRIMARY_T ┆ 0.657895 ┆ … ┆ null       ┆ null        ┆ null        ┆ null  │\n",
       "│     ┆ M{'kernel':  ┆ UMOR_ONLY': ┆          ┆   ┆            ┆             ┆             ┆       │\n",
       "│     ┆ 'poly'…      ┆ False, …    ┆          ┆   ┆            ┆             ┆             ┆       │\n",
       "│ 0   ┆ Predictor:SV ┆ {'PRIMARY_T ┆ 0.596953 ┆ … ┆ chr5       ┆ 43120013    ┆ 43120013    ┆ 86    │\n",
       "│     ┆ M{'kernel':  ┆ UMOR_ONLY': ┆          ┆   ┆            ┆             ┆             ┆       │\n",
       "│     ┆ 'poly'…      ┆ False, …    ┆          ┆   ┆            ┆             ┆             ┆       │\n",
       "│ 0   ┆ Predictor:SV ┆ {'PRIMARY_T ┆ 0.635734 ┆ … ┆ chr11      ┆ 31682011    ┆ 31682011    ┆ 49    │\n",
       "│     ┆ M{'kernel':  ┆ UMOR_ONLY': ┆          ┆   ┆            ┆             ┆             ┆       │\n",
       "│     ┆ 'poly'…      ┆ False, …    ┆          ┆   ┆            ┆             ┆             ┆       │\n",
       "│ 0   ┆ Predictor:SV ┆ {'PRIMARY_T ┆ 0.646814 ┆ … ┆ chr11      ┆ 72755591    ┆ 72755591    ┆ 34    │\n",
       "│     ┆ M{'kernel':  ┆ UMOR_ONLY': ┆          ┆   ┆            ┆             ┆             ┆       │\n",
       "│     ┆ 'poly'…      ┆ False, …    ┆          ┆   ┆            ┆             ┆             ┆       │\n",
       "│ 0   ┆ Predictor:SV ┆ {'PRIMARY_T ┆ 0.65374  ┆ … ┆ chr14      ┆ 102198388   ┆ 102198388   ┆ 33    │\n",
       "│     ┆ M{'kernel':  ┆ UMOR_ONLY': ┆          ┆   ┆            ┆             ┆             ┆       │\n",
       "│     ┆ 'poly'…      ┆ False, …    ┆          ┆   ┆            ┆             ┆             ┆       │\n",
       "│ …   ┆ …            ┆ …           ┆ …        ┆ … ┆ …          ┆ …           ┆ …           ┆ …     │\n",
       "│ 0   ┆ Predictor:SV ┆ {'PRIMARY_T ┆ 0.638504 ┆ … ┆ chr3       ┆ 47105719    ┆ 47105719    ┆ 4     │\n",
       "│     ┆ M{'kernel':  ┆ UMOR_ONLY': ┆          ┆   ┆            ┆             ┆             ┆       │\n",
       "│     ┆ 'poly'…      ┆ False, …    ┆          ┆   ┆            ┆             ┆             ┆       │\n",
       "│ 0   ┆ Predictor:SV ┆ {'PRIMARY_T ┆ 0.639889 ┆ … ┆ chr12      ┆ 31708932    ┆ 31708932    ┆ 4     │\n",
       "│     ┆ M{'kernel':  ┆ UMOR_ONLY': ┆          ┆   ┆            ┆             ┆             ┆       │\n",
       "│     ┆ 'poly'…      ┆ False, …    ┆          ┆   ┆            ┆             ┆             ┆       │\n",
       "│ 0   ┆ Predictor:SV ┆ {'PRIMARY_T ┆ 0.641274 ┆ … ┆ chr19      ┆ 57873971    ┆ 57873971    ┆ 4     │\n",
       "│     ┆ M{'kernel':  ┆ UMOR_ONLY': ┆          ┆   ┆            ┆             ┆             ┆       │\n",
       "│     ┆ 'poly'…      ┆ False, …    ┆          ┆   ┆            ┆             ┆             ┆       │\n",
       "│ 0   ┆ Predictor:SV ┆ {'PRIMARY_T ┆ 0.642659 ┆ … ┆ chr21      ┆ 25945945    ┆ 25945945    ┆ 4     │\n",
       "│     ┆ M{'kernel':  ┆ UMOR_ONLY': ┆          ┆   ┆            ┆             ┆             ┆       │\n",
       "│     ┆ 'poly'…      ┆ False, …    ┆          ┆   ┆            ┆             ┆             ┆       │\n",
       "│ 0   ┆ Predictor:SV ┆ {'PRIMARY_T ┆ 0.642659 ┆ … ┆ chr12      ┆ 27012737    ┆ 27012737    ┆ 4     │\n",
       "│     ┆ M{'kernel':  ┆ UMOR_ONLY': ┆          ┆   ┆            ┆             ┆             ┆       │\n",
       "│     ┆ 'poly'…      ┆ False, …    ┆          ┆   ┆            ┆             ┆             ┆       │\n",
       "└─────┴──────────────┴─────────────┴──────────┴───┴────────────┴─────────────┴─────────────┴───────┘"
      ]
     },
     "execution_count": 8,
     "metadata": {},
     "output_type": "execute_result"
    }
   ],
   "source": [
    "braun_ashwin"
   ]
  },
  {
   "cell_type": "code",
   "execution_count": 10,
   "metadata": {},
   "outputs": [
    {
     "data": {
      "application/vnd.jupyter.widget-view+json": {
       "model_id": "d20ca1766583417ea25fd3cf6b646418",
       "version_major": 2,
       "version_minor": 0
      },
      "text/plain": [
       "FloatProgress(value=0.0, layout=Layout(width='auto'), style=ProgressStyle(bar_color='black'))"
      ]
     },
     "metadata": {},
     "output_type": "display_data"
    }
   ],
   "source": [
    "contigs_in_genes_list = duckdb.sql('''\n",
    "                                   select * from\n",
    "                                   contig_scaffold_list c, braun_ashwin b\n",
    "                                   where c.Chromosome = b.Chromosome\n",
    "                                   and ((b.Start_position between c.Gene_start and c.Gene_end)\n",
    "                                    or (b.End_position between c.Gene_start and c.Gene_end))\n",
    "                                   ''').pl()"
   ]
  },
  {
   "cell_type": "code",
   "execution_count": 12,
   "metadata": {},
   "outputs": [
    {
     "data": {
      "text/html": [
       "<div><style>\n",
       ".dataframe > thead > tr,\n",
       ".dataframe > tbody > tr {\n",
       "  text-align: right;\n",
       "  white-space: pre-wrap;\n",
       "}\n",
       "</style>\n",
       "<small>shape: (169, 25)</small><table border=\"1\" class=\"dataframe\"><thead><tr><th>Id</th><th>Chromosome</th><th>Gene_start</th><th>Gene_end</th><th>Contigs</th><th>Multi_contig</th><th>gap_width</th><th>v0</th><th>METHOD</th><th>Info</th><th>aroc</th><th>precision</th><th>recall</th><th>f1</th><th>precision_true</th><th>recall_true</th><th>f1_true</th><th>precision_false</th><th>recall_false</th><th>f1_false</th><th>accuracy</th><th>Chromosome_1</th><th>Start_position</th><th>End_position</th><th>Count</th></tr><tr><td>str</td><td>str</td><td>i64</td><td>i64</td><td>str</td><td>str</td><td>i64</td><td>i64</td><td>str</td><td>str</td><td>f64</td><td>f64</td><td>f64</td><td>f64</td><td>f64</td><td>f64</td><td>f64</td><td>f64</td><td>f64</td><td>f64</td><td>f64</td><td>str</td><td>i64</td><td>i64</td><td>i64</td></tr></thead><tbody><tr><td>&quot;S_0_170214&quot;</td><td>&quot;chr14&quot;</td><td>102195103</td><td>102208617</td><td>&quot;C170214&quot;</td><td>&quot;N&quot;</td><td>0</td><td>0</td><td>&quot;Predictor:SVM{&#x27;kernel&#x27;: &#x27;poly&#x27;…</td><td>&quot;{&#x27;PRIMARY_TUMOR_ONLY&#x27;: False, …</td><td>0.65374</td><td>0.680952</td><td>0.657895</td><td>0.664706</td><td>0.6</td><td>0.473684</td><td>0.529412</td><td>0.761905</td><td>0.842105</td><td>0.8</td><td>0.719298</td><td>&quot;chr14&quot;</td><td>102198388</td><td>102198388</td><td>33</td></tr><tr><td>&quot;S_0_170214&quot;</td><td>&quot;chr14&quot;</td><td>102195103</td><td>102208617</td><td>&quot;C170214&quot;</td><td>&quot;N&quot;</td><td>0</td><td>0</td><td>&quot;Predictor:SVM{&#x27;kernel&#x27;: &#x27;poly&#x27;…</td><td>&quot;{&#x27;PRIMARY_TUMOR_ONLY&#x27;: False, …</td><td>0.668975</td><td>0.659299</td><td>0.644737</td><td>0.649548</td><td>0.5625</td><td>0.473684</td><td>0.514286</td><td>0.756098</td><td>0.815789</td><td>0.78481</td><td>0.701754</td><td>&quot;chr14&quot;</td><td>102198373</td><td>102198373</td><td>5</td></tr><tr><td>&quot;S_0_211501&quot;</td><td>&quot;chr19&quot;</td><td>7640932</td><td>7641812</td><td>&quot;C211501&quot;</td><td>&quot;N&quot;</td><td>0</td><td>0</td><td>&quot;Predictor:SVM{&#x27;kernel&#x27;: &#x27;poly&#x27;…</td><td>&quot;{&#x27;PRIMARY_TUMOR_ONLY&#x27;: False, …</td><td>0.638504</td><td>0.659299</td><td>0.644737</td><td>0.649548</td><td>0.5625</td><td>0.473684</td><td>0.514286</td><td>0.756098</td><td>0.815789</td><td>0.78481</td><td>0.701754</td><td>&quot;chr19&quot;</td><td>7641150</td><td>7641150</td><td>4</td></tr><tr><td>&quot;S_0_165472&quot;</td><td>&quot;chr14&quot;</td><td>49603552</td><td>49603590</td><td>&quot;C165472&quot;</td><td>&quot;N&quot;</td><td>0</td><td>0</td><td>&quot;Predictor:SVM{&#x27;kernel&#x27;: &#x27;poly&#x27;…</td><td>&quot;{&#x27;PRIMARY_TUMOR_ONLY&#x27;: False, …</td><td>0.644044</td><td>0.639706</td><td>0.631579</td><td>0.634615</td><td>0.529412</td><td>0.473684</td><td>0.5</td><td>0.75</td><td>0.789474</td><td>0.769231</td><td>0.684211</td><td>&quot;chr14&quot;</td><td>49603577</td><td>49603577</td><td>9</td></tr><tr><td>&quot;S_0_165472&quot;</td><td>&quot;chr14&quot;</td><td>49603552</td><td>49603590</td><td>&quot;C165472&quot;</td><td>&quot;N&quot;</td><td>0</td><td>0</td><td>&quot;Predictor:SVM{&#x27;kernel&#x27;: &#x27;poly&#x27;…</td><td>&quot;{&#x27;PRIMARY_TUMOR_ONLY&#x27;: False, …</td><td>0.644044</td><td>0.680952</td><td>0.657895</td><td>0.664706</td><td>0.6</td><td>0.473684</td><td>0.529412</td><td>0.761905</td><td>0.842105</td><td>0.8</td><td>0.719298</td><td>&quot;chr14&quot;</td><td>49603563</td><td>49603563</td><td>8</td></tr><tr><td>&hellip;</td><td>&hellip;</td><td>&hellip;</td><td>&hellip;</td><td>&hellip;</td><td>&hellip;</td><td>&hellip;</td><td>&hellip;</td><td>&hellip;</td><td>&hellip;</td><td>&hellip;</td><td>&hellip;</td><td>&hellip;</td><td>&hellip;</td><td>&hellip;</td><td>&hellip;</td><td>&hellip;</td><td>&hellip;</td><td>&hellip;</td><td>&hellip;</td><td>&hellip;</td><td>&hellip;</td><td>&hellip;</td><td>&hellip;</td><td>&hellip;</td></tr><tr><td>&quot;S_0_8838&quot;</td><td>&quot;chr1&quot;</td><td>54782463</td><td>54785994</td><td>&quot;C8838&quot;</td><td>&quot;N&quot;</td><td>0</td><td>0</td><td>&quot;Predictor:SVM{&#x27;kernel&#x27;: &#x27;poly&#x27;…</td><td>&quot;{&#x27;PRIMARY_TUMOR_ONLY&#x27;: False, …</td><td>0.645429</td><td>0.635714</td><td>0.618421</td><td>0.622794</td><td>0.533333</td><td>0.421053</td><td>0.470588</td><td>0.738095</td><td>0.815789</td><td>0.775</td><td>0.684211</td><td>&quot;chr1&quot;</td><td>54785559</td><td>54785559</td><td>5</td></tr><tr><td>&quot;S_0_5153&quot;</td><td>&quot;chr1&quot;</td><td>31260075</td><td>31261556</td><td>&quot;C5153&quot;</td><td>&quot;N&quot;</td><td>0</td><td>0</td><td>&quot;Predictor:SVM{&#x27;kernel&#x27;: &#x27;poly&#x27;…</td><td>&quot;{&#x27;PRIMARY_TUMOR_ONLY&#x27;: False, …</td><td>0.65651</td><td>0.659299</td><td>0.644737</td><td>0.649548</td><td>0.5625</td><td>0.473684</td><td>0.514286</td><td>0.756098</td><td>0.815789</td><td>0.78481</td><td>0.701754</td><td>&quot;chr1&quot;</td><td>31261078</td><td>31261078</td><td>20</td></tr><tr><td>&quot;S_0_5153&quot;</td><td>&quot;chr1&quot;</td><td>31260075</td><td>31261556</td><td>&quot;C5153&quot;</td><td>&quot;N&quot;</td><td>0</td><td>0</td><td>&quot;Predictor:SVM{&#x27;kernel&#x27;: &#x27;poly&#x27;…</td><td>&quot;{&#x27;PRIMARY_TUMOR_ONLY&#x27;: False, …</td><td>0.648199</td><td>0.680952</td><td>0.657895</td><td>0.664706</td><td>0.6</td><td>0.473684</td><td>0.529412</td><td>0.761905</td><td>0.842105</td><td>0.8</td><td>0.719298</td><td>&quot;chr1&quot;</td><td>31261106</td><td>31261106</td><td>19</td></tr><tr><td>&quot;S_0_5153&quot;</td><td>&quot;chr1&quot;</td><td>31260075</td><td>31261556</td><td>&quot;C5153&quot;</td><td>&quot;N&quot;</td><td>0</td><td>0</td><td>&quot;Predictor:SVM{&#x27;kernel&#x27;: &#x27;poly&#x27;…</td><td>&quot;{&#x27;PRIMARY_TUMOR_ONLY&#x27;: False, …</td><td>0.637812</td><td>0.639706</td><td>0.631579</td><td>0.634615</td><td>0.529412</td><td>0.473684</td><td>0.5</td><td>0.75</td><td>0.789474</td><td>0.769231</td><td>0.684211</td><td>&quot;chr1&quot;</td><td>31261079</td><td>31261079</td><td>9</td></tr><tr><td>&quot;S_0_5153&quot;</td><td>&quot;chr1&quot;</td><td>31260075</td><td>31261556</td><td>&quot;C5153&quot;</td><td>&quot;N&quot;</td><td>0</td><td>0</td><td>&quot;Predictor:SVM{&#x27;kernel&#x27;: &#x27;poly&#x27;…</td><td>&quot;{&#x27;PRIMARY_TUMOR_ONLY&#x27;: False, …</td><td>0.646814</td><td>0.659299</td><td>0.644737</td><td>0.649548</td><td>0.5625</td><td>0.473684</td><td>0.514286</td><td>0.756098</td><td>0.815789</td><td>0.78481</td><td>0.701754</td><td>&quot;chr1&quot;</td><td>31261067</td><td>31261067</td><td>4</td></tr></tbody></table></div>"
      ],
      "text/plain": [
       "shape: (169, 25)\n",
       "┌────────────┬────────────┬────────────┬───────────┬───┬───────────┬───────────┬───────────┬───────┐\n",
       "│ Id         ┆ Chromosome ┆ Gene_start ┆ Gene_end  ┆ … ┆ Chromosom ┆ Start_pos ┆ End_posit ┆ Count │\n",
       "│ ---        ┆ ---        ┆ ---        ┆ ---       ┆   ┆ e_1       ┆ ition     ┆ ion       ┆ ---   │\n",
       "│ str        ┆ str        ┆ i64        ┆ i64       ┆   ┆ ---       ┆ ---       ┆ ---       ┆ i64   │\n",
       "│            ┆            ┆            ┆           ┆   ┆ str       ┆ i64       ┆ i64       ┆       │\n",
       "╞════════════╪════════════╪════════════╪═══════════╪═══╪═══════════╪═══════════╪═══════════╪═══════╡\n",
       "│ S_0_170214 ┆ chr14      ┆ 102195103  ┆ 102208617 ┆ … ┆ chr14     ┆ 102198388 ┆ 102198388 ┆ 33    │\n",
       "│ S_0_170214 ┆ chr14      ┆ 102195103  ┆ 102208617 ┆ … ┆ chr14     ┆ 102198373 ┆ 102198373 ┆ 5     │\n",
       "│ S_0_211501 ┆ chr19      ┆ 7640932    ┆ 7641812   ┆ … ┆ chr19     ┆ 7641150   ┆ 7641150   ┆ 4     │\n",
       "│ S_0_165472 ┆ chr14      ┆ 49603552   ┆ 49603590  ┆ … ┆ chr14     ┆ 49603577  ┆ 49603577  ┆ 9     │\n",
       "│ S_0_165472 ┆ chr14      ┆ 49603552   ┆ 49603590  ┆ … ┆ chr14     ┆ 49603563  ┆ 49603563  ┆ 8     │\n",
       "│ …          ┆ …          ┆ …          ┆ …         ┆ … ┆ …         ┆ …         ┆ …         ┆ …     │\n",
       "│ S_0_8838   ┆ chr1       ┆ 54782463   ┆ 54785994  ┆ … ┆ chr1      ┆ 54785559  ┆ 54785559  ┆ 5     │\n",
       "│ S_0_5153   ┆ chr1       ┆ 31260075   ┆ 31261556  ┆ … ┆ chr1      ┆ 31261078  ┆ 31261078  ┆ 20    │\n",
       "│ S_0_5153   ┆ chr1       ┆ 31260075   ┆ 31261556  ┆ … ┆ chr1      ┆ 31261106  ┆ 31261106  ┆ 19    │\n",
       "│ S_0_5153   ┆ chr1       ┆ 31260075   ┆ 31261556  ┆ … ┆ chr1      ┆ 31261079  ┆ 31261079  ┆ 9     │\n",
       "│ S_0_5153   ┆ chr1       ┆ 31260075   ┆ 31261556  ┆ … ┆ chr1      ┆ 31261067  ┆ 31261067  ┆ 4     │\n",
       "└────────────┴────────────┴────────────┴───────────┴───┴───────────┴───────────┴───────────┴───────┘"
      ]
     },
     "execution_count": 12,
     "metadata": {},
     "output_type": "execute_result"
    }
   ],
   "source": [
    "contigs_in_genes_list.filter(pl.col(\"gap_width\")==0)"
   ]
  },
  {
   "cell_type": "code",
   "execution_count": 13,
   "metadata": {},
   "outputs": [],
   "source": [
    "hotspot_score_3_axis_per_contig = pl.read_parquet(contig_hotspot_score_file)"
   ]
  },
  {
   "cell_type": "code",
   "execution_count": null,
   "metadata": {},
   "outputs": [
    {
     "data": {
      "text/html": [
       "<div><style>\n",
       ".dataframe > thead > tr,\n",
       ".dataframe > tbody > tr {\n",
       "  text-align: right;\n",
       "  white-space: pre-wrap;\n",
       "}\n",
       "</style>\n",
       "<small>shape: (169, 36)</small><table border=\"1\" class=\"dataframe\"><thead><tr><th>Id</th><th>Chromosome</th><th>Gene_start</th><th>Gene_end</th><th>Contigs</th><th>Multi_contig</th><th>gap_width</th><th>v0</th><th>METHOD</th><th>Info</th><th>aroc</th><th>precision</th><th>recall</th><th>f1</th><th>precision_true</th><th>recall_true</th><th>f1_true</th><th>precision_false</th><th>recall_false</th><th>f1_false</th><th>accuracy</th><th>Chromosome_1</th><th>Start_position</th><th>End_position</th><th>Count</th><th>unique_pep_idx</th><th>mut_count_idx</th><th>pop_cov_idx</th><th>pop_cov</th><th>vlen</th><th>popcov_but_sqrt</th><th>unique_peptides</th><th>mutation_count</th><th>exon_length</th><th>normalized_unique_pep</th><th>ranking</th></tr><tr><td>str</td><td>str</td><td>i64</td><td>i64</td><td>str</td><td>str</td><td>i64</td><td>i64</td><td>str</td><td>str</td><td>f64</td><td>f64</td><td>f64</td><td>f64</td><td>f64</td><td>f64</td><td>f64</td><td>f64</td><td>f64</td><td>f64</td><td>f64</td><td>str</td><td>i64</td><td>i64</td><td>i64</td><td>u32</td><td>u32</td><td>u32</td><td>f64</td><td>f64</td><td>f64</td><td>u32</td><td>i64</td><td>i64</td><td>f64</td><td>u32</td></tr></thead><tbody><tr><td>&quot;S_0_137416&quot;</td><td>&quot;chr11&quot;</td><td>62871660</td><td>62876830</td><td>&quot;C137416&quot;</td><td>&quot;N&quot;</td><td>0</td><td>0</td><td>&quot;Predictor:SVM{&#x27;kernel&#x27;: &#x27;poly&#x27;…</td><td>&quot;{&#x27;PRIMARY_TUMOR_ONLY&#x27;: False, …</td><td>0.649584</td><td>0.659299</td><td>0.644737</td><td>0.649548</td><td>0.5625</td><td>0.473684</td><td>0.514286</td><td>0.756098</td><td>0.815789</td><td>0.78481</td><td>0.701754</td><td>&quot;chr11&quot;</td><td>62876788</td><td>62876788</td><td>4</td><td>56164</td><td>14067</td><td>192734</td><td>0.0</td><td>0.0</td><td>0.0</td><td>2</td><td>156</td><td>187</td><td>0.010695</td><td>262965</td></tr><tr><td>&quot;S_0_172680&quot;</td><td>&quot;chr15&quot;</td><td>40387202</td><td>40389524</td><td>&quot;C172680&quot;</td><td>&quot;N&quot;</td><td>0</td><td>0</td><td>&quot;Predictor:SVM{&#x27;kernel&#x27;: &#x27;poly&#x27;…</td><td>&quot;{&#x27;PRIMARY_TUMOR_ONLY&#x27;: False, …</td><td>0.641274</td><td>0.659299</td><td>0.644737</td><td>0.649548</td><td>0.5625</td><td>0.473684</td><td>0.514286</td><td>0.756098</td><td>0.815789</td><td>0.78481</td><td>0.701754</td><td>&quot;chr15&quot;</td><td>40389205</td><td>40389205</td><td>10</td><td>138728</td><td>36746</td><td>227534</td><td>0.0</td><td>0.0</td><td>0.0</td><td>1</td><td>68</td><td>306</td><td>0.003268</td><td>403008</td></tr><tr><td>&quot;S_0_172680&quot;</td><td>&quot;chr15&quot;</td><td>40387202</td><td>40389524</td><td>&quot;C172680&quot;</td><td>&quot;N&quot;</td><td>0</td><td>0</td><td>&quot;Predictor:SVM{&#x27;kernel&#x27;: &#x27;poly&#x27;…</td><td>&quot;{&#x27;PRIMARY_TUMOR_ONLY&#x27;: False, …</td><td>0.649584</td><td>0.681618</td><td>0.671053</td><td>0.675214</td><td>0.588235</td><td>0.526316</td><td>0.555556</td><td>0.775</td><td>0.815789</td><td>0.794872</td><td>0.719298</td><td>&quot;chr15&quot;</td><td>40389163</td><td>40389163</td><td>5</td><td>138728</td><td>36746</td><td>227534</td><td>0.0</td><td>0.0</td><td>0.0</td><td>1</td><td>68</td><td>306</td><td>0.003268</td><td>403008</td></tr><tr><td>&quot;S_0_172680&quot;</td><td>&quot;chr15&quot;</td><td>40387202</td><td>40389524</td><td>&quot;C172680&quot;</td><td>&quot;N&quot;</td><td>0</td><td>0</td><td>&quot;Predictor:SVM{&#x27;kernel&#x27;: &#x27;poly&#x27;…</td><td>&quot;{&#x27;PRIMARY_TUMOR_ONLY&#x27;: False, …</td><td>0.65374</td><td>0.657807</td><td>0.631579</td><td>0.637486</td><td>0.571429</td><td>0.421053</td><td>0.484848</td><td>0.744186</td><td>0.842105</td><td>0.790123</td><td>0.701754</td><td>&quot;chr15&quot;</td><td>40389173</td><td>40389173</td><td>4</td><td>138728</td><td>36746</td><td>227534</td><td>0.0</td><td>0.0</td><td>0.0</td><td>1</td><td>68</td><td>306</td><td>0.003268</td><td>403008</td></tr><tr><td>&quot;S_0_139882&quot;</td><td>&quot;chr11&quot;</td><td>70896556</td><td>71056492</td><td>&quot;C139882&quot;</td><td>&quot;N&quot;</td><td>0</td><td>0</td><td>&quot;Predictor:SVM{&#x27;kernel&#x27;: &#x27;poly&#x27;…</td><td>&quot;{&#x27;PRIMARY_TUMOR_ONLY&#x27;: False, …</td><td>0.641274</td><td>0.635714</td><td>0.618421</td><td>0.622794</td><td>0.533333</td><td>0.421053</td><td>0.470588</td><td>0.738095</td><td>0.815789</td><td>0.775</td><td>0.684211</td><td>&quot;chr11&quot;</td><td>70907908</td><td>70907908</td><td>4</td><td>156707</td><td>2494</td><td>244679</td><td>0.0</td><td>0.0</td><td>0.0</td><td>1</td><td>612</td><td>443</td><td>0.002257</td><td>403880</td></tr><tr><td>&hellip;</td><td>&hellip;</td><td>&hellip;</td><td>&hellip;</td><td>&hellip;</td><td>&hellip;</td><td>&hellip;</td><td>&hellip;</td><td>&hellip;</td><td>&hellip;</td><td>&hellip;</td><td>&hellip;</td><td>&hellip;</td><td>&hellip;</td><td>&hellip;</td><td>&hellip;</td><td>&hellip;</td><td>&hellip;</td><td>&hellip;</td><td>&hellip;</td><td>&hellip;</td><td>&hellip;</td><td>&hellip;</td><td>&hellip;</td><td>&hellip;</td><td>&hellip;</td><td>&hellip;</td><td>&hellip;</td><td>&hellip;</td><td>&hellip;</td><td>&hellip;</td><td>&hellip;</td><td>&hellip;</td><td>&hellip;</td><td>&hellip;</td><td>&hellip;</td></tr><tr><td>&quot;S_0_224830&quot;</td><td>&quot;chr19&quot;</td><td>57858963</td><td>57888772</td><td>&quot;C224830&quot;</td><td>&quot;N&quot;</td><td>0</td><td>0</td><td>&quot;Predictor:SVM{&#x27;kernel&#x27;: &#x27;poly&#x27;…</td><td>&quot;{&#x27;PRIMARY_TUMOR_ONLY&#x27;: False, …</td><td>0.641274</td><td>0.680952</td><td>0.657895</td><td>0.664706</td><td>0.6</td><td>0.473684</td><td>0.529412</td><td>0.761905</td><td>0.842105</td><td>0.8</td><td>0.719298</td><td>&quot;chr19&quot;</td><td>57873971</td><td>57873971</td><td>4</td><td>149731</td><td>35</td><td>1210</td><td>94.856219</td><td>1.055743</td><td>136.003539</td><td>48</td><td>10099</td><td>18270</td><td>0.002627</td><td>150976</td></tr><tr><td>&quot;S_0_47646&quot;</td><td>&quot;chr3&quot;</td><td>49360323</td><td>49375520</td><td>&quot;C47646&quot;</td><td>&quot;N&quot;</td><td>0</td><td>0</td><td>&quot;Predictor:SVM{&#x27;kernel&#x27;: &#x27;poly&#x27;…</td><td>&quot;{&#x27;PRIMARY_TUMOR_ONLY&#x27;: False, …</td><td>0.644044</td><td>0.659299</td><td>0.644737</td><td>0.649548</td><td>0.5625</td><td>0.473684</td><td>0.514286</td><td>0.756098</td><td>0.815789</td><td>0.78481</td><td>0.701754</td><td>&quot;chr3&quot;</td><td>49373315</td><td>49373315</td><td>5</td><td>53619</td><td>1252</td><td>706</td><td>124.811451</td><td>0.954949</td><td>174.510728</td><td>49</td><td>1038</td><td>4385</td><td>0.011174</td><td>55577</td></tr><tr><td>&quot;S_0_108955&quot;</td><td>&quot;chr8&quot;</td><td>108214636</td><td>108236193</td><td>&quot;C108955&quot;</td><td>&quot;N&quot;</td><td>0</td><td>0</td><td>&quot;Predictor:SVM{&#x27;kernel&#x27;: &#x27;poly&#x27;…</td><td>&quot;{&#x27;PRIMARY_TUMOR_ONLY&#x27;: False, …</td><td>0.645429</td><td>0.659299</td><td>0.644737</td><td>0.649548</td><td>0.5625</td><td>0.473684</td><td>0.514286</td><td>0.756098</td><td>0.815789</td><td>0.78481</td><td>0.701754</td><td>&quot;chr8&quot;</td><td>108233644</td><td>108233644</td><td>4</td><td>68795</td><td>2079</td><td>405</td><td>124.097905</td><td>2.634227</td><td>236.575897</td><td>90</td><td>702</td><td>10211</td><td>0.008814</td><td>71279</td></tr><tr><td>&quot;S_0_152802&quot;</td><td>&quot;chr12&quot;</td><td>76056135</td><td>76074207</td><td>&quot;C152802&quot;</td><td>&quot;N&quot;</td><td>0</td><td>0</td><td>&quot;Predictor:SVM{&#x27;kernel&#x27;: &#x27;poly&#x27;…</td><td>&quot;{&#x27;PRIMARY_TUMOR_ONLY&#x27;: False, …</td><td>0.642659</td><td>0.659299</td><td>0.644737</td><td>0.649548</td><td>0.5625</td><td>0.473684</td><td>0.514286</td><td>0.756098</td><td>0.815789</td><td>0.78481</td><td>0.701754</td><td>&quot;chr12&quot;</td><td>76061072</td><td>76061072</td><td>4</td><td>33323</td><td>389</td><td>199</td><td>172.753714</td><td>2.531038</td><td>324.622497</td><td>65</td><td>2277</td><td>3978</td><td>0.01634</td><td>33911</td></tr><tr><td>&quot;S_0_188505&quot;</td><td>&quot;chr16&quot;</td><td>70314952</td><td>70366116</td><td>&quot;C188505&quot;</td><td>&quot;N&quot;</td><td>0</td><td>0</td><td>&quot;Predictor:SVM{&#x27;kernel&#x27;: &#x27;poly&#x27;…</td><td>&quot;{&#x27;PRIMARY_TUMOR_ONLY&#x27;: False, …</td><td>0.644044</td><td>0.659299</td><td>0.644737</td><td>0.649548</td><td>0.5625</td><td>0.473684</td><td>0.514286</td><td>0.756098</td><td>0.815789</td><td>0.78481</td><td>0.701754</td><td>&quot;chr16&quot;</td><td>70347968</td><td>70347968</td><td>15</td><td>99658</td><td>269</td><td>90</td><td>338.458754</td><td>0.982516</td><td>476.556213</td><td>73</td><td>2961</td><td>12393</td><td>0.00589</td><td>100017</td></tr></tbody></table></div>"
      ],
      "text/plain": [
       "shape: (169, 36)\n",
       "┌────────────┬───────────┬───────────┬───────────┬───┬───────────┬───────────┬───────────┬─────────┐\n",
       "│ Id         ┆ Chromosom ┆ Gene_star ┆ Gene_end  ┆ … ┆ mutation_ ┆ exon_leng ┆ normalize ┆ ranking │\n",
       "│ ---        ┆ e         ┆ t         ┆ ---       ┆   ┆ count     ┆ th        ┆ d_unique_ ┆ ---     │\n",
       "│ str        ┆ ---       ┆ ---       ┆ i64       ┆   ┆ ---       ┆ ---       ┆ pep       ┆ u32     │\n",
       "│            ┆ str       ┆ i64       ┆           ┆   ┆ i64       ┆ i64       ┆ ---       ┆         │\n",
       "│            ┆           ┆           ┆           ┆   ┆           ┆           ┆ f64       ┆         │\n",
       "╞════════════╪═══════════╪═══════════╪═══════════╪═══╪═══════════╪═══════════╪═══════════╪═════════╡\n",
       "│ S_0_137416 ┆ chr11     ┆ 62871660  ┆ 62876830  ┆ … ┆ 156       ┆ 187       ┆ 0.010695  ┆ 262965  │\n",
       "│ S_0_172680 ┆ chr15     ┆ 40387202  ┆ 40389524  ┆ … ┆ 68        ┆ 306       ┆ 0.003268  ┆ 403008  │\n",
       "│ S_0_172680 ┆ chr15     ┆ 40387202  ┆ 40389524  ┆ … ┆ 68        ┆ 306       ┆ 0.003268  ┆ 403008  │\n",
       "│ S_0_172680 ┆ chr15     ┆ 40387202  ┆ 40389524  ┆ … ┆ 68        ┆ 306       ┆ 0.003268  ┆ 403008  │\n",
       "│ S_0_139882 ┆ chr11     ┆ 70896556  ┆ 71056492  ┆ … ┆ 612       ┆ 443       ┆ 0.002257  ┆ 403880  │\n",
       "│ …          ┆ …         ┆ …         ┆ …         ┆ … ┆ …         ┆ …         ┆ …         ┆ …       │\n",
       "│ S_0_224830 ┆ chr19     ┆ 57858963  ┆ 57888772  ┆ … ┆ 10099     ┆ 18270     ┆ 0.002627  ┆ 150976  │\n",
       "│ S_0_47646  ┆ chr3      ┆ 49360323  ┆ 49375520  ┆ … ┆ 1038      ┆ 4385      ┆ 0.011174  ┆ 55577   │\n",
       "│ S_0_108955 ┆ chr8      ┆ 108214636 ┆ 108236193 ┆ … ┆ 702       ┆ 10211     ┆ 0.008814  ┆ 71279   │\n",
       "│ S_0_152802 ┆ chr12     ┆ 76056135  ┆ 76074207  ┆ … ┆ 2277      ┆ 3978      ┆ 0.01634   ┆ 33911   │\n",
       "│ S_0_188505 ┆ chr16     ┆ 70314952  ┆ 70366116  ┆ … ┆ 2961      ┆ 12393     ┆ 0.00589   ┆ 100017  │\n",
       "└────────────┴───────────┴───────────┴───────────┴───┴───────────┴───────────┴───────────┴─────────┘"
      ]
     },
     "execution_count": 19,
     "metadata": {},
     "output_type": "execute_result"
    }
   ],
   "source": [
    "contigs_in_genes_list.filter(pl.col(\"gap_width\")==0).join(hotspot_score_3_axis_per_contig, on=\"Id\").sort(\"popcov_but_sqrt\").write_csv(\"Braun_mutation_experiment_with_scores.csv\")"
   ]
  },
  {
   "cell_type": "markdown",
   "metadata": {},
   "source": [
    "This is to clean up and delete all additional files and directories created throughout the analysis.\n",
    "\n",
    "**Do not run the second cell unless you want to end your work here or start over.**"
   ]
  },
  {
   "cell_type": "code",
   "execution_count": null,
   "metadata": {},
   "outputs": [],
   "source": [
    "# This is a safety code\n",
    "\n",
    "raise KeyboardInterrupt(\"Are you sure you want to run the cell below?\")"
   ]
  }
 ],
 "metadata": {
  "kernelspec": {
   "display_name": "carmen",
   "language": "python",
   "name": "python3"
  },
  "language_info": {
   "codemirror_mode": {
    "name": "ipython",
    "version": 3
   },
   "file_extension": ".py",
   "mimetype": "text/x-python",
   "name": "python",
   "nbconvert_exporter": "python",
   "pygments_lexer": "ipython3",
   "version": "3.9.20"
  }
 },
 "nbformat": 4,
 "nbformat_minor": 2
}
